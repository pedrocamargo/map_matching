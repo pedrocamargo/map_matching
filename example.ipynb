{
 "cells": [
  {
   "cell_type": "code",
   "execution_count": 1,
   "metadata": {},
   "outputs": [],
   "source": [
    "import geopandas as gpd\n",
    "import pandas as pd\n",
    "import numpy as np\n",
    "from pathlib import Path"
   ]
  },
  {
   "cell_type": "code",
   "execution_count": 8,
   "metadata": {},
   "outputs": [],
   "source": [
    "gps_path = Path(r\"C:\\Users\\Pedro\\Outer Loop Consulting\\2022-01 - TMR GSM - Documents\\General\\submodels\\logistic_path_choice\\data\\compass_iot_traces\")\n",
    "\n",
    "gdf = gpd.read_feather(gps_path / \"all_vertices_sample.feather\")\n",
    "trace = gdf[gdf.trip_id==gdf.trip_id.values[0]]"
   ]
  },
  {
   "cell_type": "code",
   "execution_count": 11,
   "metadata": {},
   "outputs": [],
   "source": [
    "gdf = gpd.read_feather(gps_path / \"origins.feather\")\n",
    "origin = gdf[gdf.trip_id==trace.trip_id.values[0]]\n",
    "\n",
    "gdf = gpd.read_feather(gps_path / \"destinations.feather\")\n",
    "dest = gdf[gdf.trip_id==trace.trip_id.values[0]]"
   ]
  },
  {
   "cell_type": "code",
   "execution_count": 14,
   "metadata": {},
   "outputs": [],
   "source": [
    "stops = pd.concat([origin.assign(stop_id=0), dest.assign(stop_id=1)])\n",
    "stops = gpd.GeoDataFrame(stops.sort_values(by=[\"stop_id\"]), geometry=\"geometry\")"
   ]
  },
  {
   "cell_type": "code",
   "execution_count": 2,
   "metadata": {},
   "outputs": [],
   "source": [
    "from mapmatcher.skim_builder import SkimBuilder"
   ]
  },
  {
   "cell_type": "code",
   "execution_count": 3,
   "metadata": {},
   "outputs": [
    {
     "name": "stdout",
     "output_type": "stream",
     "text": [
      "CPU times: total: 1.39 s\n",
      "Wall time: 1.44 s\n"
     ]
    }
   ],
   "source": [
    "%%time\n",
    "from pathlib import Path\n",
    "project_dir = Path(r\"C:\\Users\\Pedro\\Outer Loop Consulting\\2022-01 - TMR GSM - Documents\\General\\submodels\\basic_scenario\")\n",
    "\n",
    "network_file = project_dir / \"network/network.gpkg\"\n",
    "zone_file    = project_dir / \"zone_system\" / \"zone_system.gpkg\"\n",
    "\n",
    "centroids = gpd.read_parquet(project_dir / \"zone_system\" / \"centroids.parquet\")\n",
    "centroids.sort_values(by=[\"zone_id\"], inplace=True)\n",
    "\n",
    "zones = gpd.read_parquet(project_dir / \"zone_system\" / \"zone_system.parquet\")\n",
    "\n",
    "net = gpd.read_parquet(project_dir / \"network\" / \"network.parquet\")\n",
    "\n",
    "net_nodes = gpd.read_parquet(project_dir / \"network\" / \"nodes.parquet\")\n"
   ]
  },
  {
   "cell_type": "code",
   "execution_count": 4,
   "metadata": {},
   "outputs": [
    {
     "name": "stdout",
     "output_type": "stream",
     "text": [
      "CPU times: total: 46.2 s\n",
      "Wall time: 2min 29s\n"
     ]
    }
   ],
   "source": [
    "%%time\n",
    "from mapmatcher.skim_builder import SkimBuilder\n",
    "\n",
    "skb = SkimBuilder()\n",
    "skb.from_layers(network=net, zones=zones, network_nodes=net_nodes, centroids=centroids, cache_path=str(project_dir))\n",
    "graph = skb.graph"
   ]
  },
  {
   "cell_type": "code",
   "execution_count": null,
   "metadata": {},
   "outputs": [],
   "source": []
  }
 ],
 "metadata": {
  "kernelspec": {
   "display_name": ".venv",
   "language": "python",
   "name": "python3"
  },
  "language_info": {
   "codemirror_mode": {
    "name": "ipython",
    "version": 3
   },
   "file_extension": ".py",
   "mimetype": "text/x-python",
   "name": "python",
   "nbconvert_exporter": "python",
   "pygments_lexer": "ipython3",
   "version": "3.10.11"
  }
 },
 "nbformat": 4,
 "nbformat_minor": 2
}
