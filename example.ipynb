{
 "cells": [
  {
   "cell_type": "code",
   "execution_count": 1,
   "metadata": {},
   "outputs": [],
   "source": [
    "import geopandas as gpd\n",
    "import pandas as pd\n",
    "import numpy as np\n",
    "from pathlib import Path"
   ]
  },
  {
   "cell_type": "code",
   "execution_count": 8,
   "metadata": {},
   "outputs": [],
   "source": [
    "gps_path = Path(r\"C:\\Users\\Pedro\\Outer Loop Consulting\\2022-01 - TMR GSM - Documents\\General\\submodels\\logistic_path_choice\\data\\compass_iot_traces\")\n",
    "\n",
    "gdf = gpd.read_feather(gps_path / \"all_vertices_sample.feather\")\n",
    "\n",
    "trace_id = \"YHoaaFSHtG1JNki+aTHZwA==\"\n",
    "# trace = gdf[gdf.trip_id==gdf.trip_id.unique()[-2]]\n",
    "trace = gdf[gdf.trip_id==trace_id]\n",
    "trace = trace.assign(trace_id= 1000)\n",
    "trace = gpd.GeoDataFrame(trace, geometry=trace.geometry)"
   ]
  },
  {
   "cell_type": "code",
   "execution_count": 11,
   "metadata": {},
   "outputs": [],
   "source": [
    "gdf = gpd.read_feather(gps_path / \"origins.feather\")\n",
    "origin = gdf[gdf.trip_id==trace.trip_id.values[0]]\n",
    "\n",
    "gdf = gpd.read_feather(gps_path / \"destinations.feather\")\n",
    "dest = gdf[gdf.trip_id==trace.trip_id.values[0]]\n",
    "\n",
    "stops = pd.concat([origin.assign(stop_id=0), dest.assign(stop_id=1)])\n",
    "stops = gpd.GeoDataFrame(stops.sort_values(by=[\"stop_id\"]), geometry=\"geometry\")"
   ]
  },
  {
   "cell_type": "code",
   "execution_count": 5,
   "metadata": {},
   "outputs": [],
   "source": [
    "from mapmatcher.skim_builder import SkimBuilder"
   ]
  },
  {
   "cell_type": "code",
   "execution_count": 6,
   "metadata": {},
   "outputs": [
    {
     "name": "stdout",
     "output_type": "stream",
     "text": [
      "CPU times: total: 2.97 s\n",
      "Wall time: 4.62 s\n"
     ]
    }
   ],
   "source": [
    "%%time\n",
    "from pathlib import Path\n",
    "project_dir = Path(r\"C:\\Users\\Pedro\\Outer Loop Consulting\\2022-01 - TMR GSM - Documents\\General\\submodels\\basic_scenario\")\n",
    "\n",
    "network_file = project_dir / \"network\" / \"sample_net.gpkg\"\n",
    "zone_file    = project_dir / \"zone_system\" / \"zone_system_sample.gpkg\"\n",
    "\n",
    "centroids = gpd.read_file(zone_file, layer=\"centroids\")\n",
    "centroids.sort_values(by=[\"zone_id\"], inplace=True)\n",
    "\n",
    "zones = gpd.read_file(zone_file, layer=\"zone_system\")\n",
    "\n",
    "net = gpd.read_file(network_file, layer=\"network\")\n",
    "\n",
    "net_nodes = gpd.read_file(network_file, layer=\"nodes\")\n"
   ]
  },
  {
   "cell_type": "code",
   "execution_count": 7,
   "metadata": {},
   "outputs": [
    {
     "name": "stdout",
     "output_type": "stream",
     "text": [
      "CPU times: total: 1min 17s\n",
      "Wall time: 2min 49s\n"
     ]
    }
   ],
   "source": [
    "%%time\n",
    "from mapmatcher.skim_builder import SkimBuilder\n",
    "\n",
    "skb = SkimBuilder()\n",
    "# skb.from_cache(str(project_dir))\n",
    "skb.from_layers(network=net, zones=zones, network_nodes=net_nodes, centroids=centroids, cache_path=str(project_dir))\n",
    "graph = skb.graph"
   ]
  },
  {
   "cell_type": "code",
   "execution_count": 12,
   "metadata": {},
   "outputs": [],
   "source": [
    "from mapmatcher.network import Network\n",
    "from mapmatcher.parameters import Parameters\n",
    "\n",
    "\n",
    "mmnet = Network(graph=graph, links=net.to_crs(3857), nodes=net_nodes.to_crs(3857))\n",
    "pars = Parameters()"
   ]
  },
  {
   "cell_type": "code",
   "execution_count": 13,
   "metadata": {},
   "outputs": [],
   "source": [
    "from mapmatcher.trip import Trip\n",
    "\n",
    "trip = Trip(gps_trace=trace.to_crs(3857), stops=stops.to_crs(3857), parameters=pars, network=mmnet)"
   ]
  },
  {
   "cell_type": "code",
   "execution_count": 14,
   "metadata": {},
   "outputs": [],
   "source": [
    "trip.map_match(ignore_errors=True)"
   ]
  },
  {
   "cell_type": "code",
   "execution_count": 15,
   "metadata": {},
   "outputs": [
    {
     "data": {
      "text/plain": [
       "[310453050, 310452549]"
      ]
     },
     "execution_count": 15,
     "metadata": {},
     "output_type": "execute_result"
    }
   ],
   "source": [
    "trip._stop_nodes"
   ]
  },
  {
   "cell_type": "code",
   "execution_count": 16,
   "metadata": {},
   "outputs": [],
   "source": [
    "from aequilibrae.paths import PathResults\n",
    "\n",
    "res = PathResults()\n",
    "res.prepare(graph)"
   ]
  },
  {
   "cell_type": "code",
   "execution_count": 17,
   "metadata": {},
   "outputs": [
    {
     "ename": "",
     "evalue": "",
     "output_type": "error",
     "traceback": [
      "\u001b[1;31mThe Kernel crashed while executing code in the the current cell or a previous cell. Please review the code in the cell(s) to identify a possible cause of the failure. Click <a href='https://aka.ms/vscodeJupyterKernelCrash'>here</a> for more info. View Jupyter <a href='command:jupyter.viewOutput'>log</a> for further details."
     ]
    }
   ],
   "source": [
    "%%time\n",
    "res.compute_path(trip._stop_nodes[0], trip._stop_nodes[1])"
   ]
  },
  {
   "cell_type": "code",
   "execution_count": null,
   "metadata": {},
   "outputs": [],
   "source": [
    "res.links"
   ]
  }
 ],
 "metadata": {
  "kernelspec": {
   "display_name": ".venv",
   "language": "python",
   "name": "python3"
  },
  "language_info": {
   "codemirror_mode": {
    "name": "ipython",
    "version": 3
   },
   "file_extension": ".py",
   "mimetype": "text/x-python",
   "name": "python",
   "nbconvert_exporter": "python",
   "pygments_lexer": "ipython3",
   "version": "3.10.11"
  }
 },
 "nbformat": 4,
 "nbformat_minor": 2
}
